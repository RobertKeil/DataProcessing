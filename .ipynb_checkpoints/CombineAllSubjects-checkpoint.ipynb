{
 "cells": [
  {
   "cell_type": "code",
   "execution_count": 1,
   "metadata": {
    "collapsed": false
   },
   "outputs": [],
   "source": [
    "import csv\n",
    "import pandas as pd\n",
    "import numpy as np\n",
    "import matplotlib.pyplot as plt\n",
    "import matplotlib\n",
    "matplotlib.style.use('ggplot')\n",
    "%matplotlib inline"
   ]
  },
  {
   "cell_type": "code",
   "execution_count": 2,
   "metadata": {
    "collapsed": false
   },
   "outputs": [],
   "source": [
    "# Get and clean data from all different postures\n",
    "PATH = 'assets/Combined/AllSubjectsCombined/'\n",
    "\n",
    "cUp = pd.read_csv(PATH + 'climbingUp.csv', header=None)\n",
    "\n",
    "cDown = pd.read_csv(PATH + 'climbingDown.csv', header=None)\n",
    "\n",
    "standing = pd.read_csv(PATH + 'standing.csv', header=None)\n",
    "standing.replace(\"stehen\", \"Standing\", inplace=True)\n",
    "\n",
    "sitting = pd.read_csv(PATH + 'sitting.csv', header=None)\n",
    "sitting.replace(\"sitzen\", \"Sitting\", inplace=True)\n",
    "\n",
    "walking = pd.read_csv(PATH + 'walking.csv', header=None)\n",
    "walking.replace(\"gehen\", \"Walking\", inplace=True)\n",
    "\n",
    "running = pd.read_csv(PATH + 'running.csv', header=None)\n",
    "running.replace(\"rennen\", \"Running\", inplace=True)\n",
    "\n",
    "recumbency = pd.read_csv(PATH + 'recumbency.csv', header=None)\n",
    "recumbency.replace(\"liegen\", \"Recumbency\", inplace=True)\n",
    "\n",
    "notSpecified = pd.read_csv(PATH + 'notSpecified.csv', header=None)\n",
    "notSpecified.replace(\"Nicht festgelegt\", \"Not Specified\", inplace=True)\n",
    "\n",
    "unknown = pd.read_csv(PATH + 'unknown.csv', header=None)\n",
    "\n",
    "jumping = pd.read_csv(PATH + 'jumping.csv', header=None)\n",
    "jumping.replace(\"springen\", \"Jumping\", inplace=True)"
   ]
  },
  {
   "cell_type": "code",
   "execution_count": 9,
   "metadata": {
    "collapsed": false
   },
   "outputs": [],
   "source": [
    "# Sample dataframes, n = 500\n",
    "\n",
    "cUpSample = cUp.sample(n=500)\n",
    "cDownSample = cDown.sample(n=500)\n",
    "standingSample = standing.sample(n=500)\n",
    "sittingSample = sitting.sample(n=500)\n",
    "walkingSample = walking.sample(n=500)\n",
    "runningSample = running.sample(n=500)\n",
    "recumbencySample = recumbency.sample(n=500)\n",
    "notSpecifiedSample = notSpecified.sample(n=500)\n",
    "unknownSample = unknown.sample(n=500)\n",
    "jumpingSample = jumping"
   ]
  },
  {
   "cell_type": "code",
   "execution_count": 3,
   "metadata": {
    "collapsed": false
   },
   "outputs": [],
   "source": [
    "# Combine all posture dataframes into one\n",
    "result = pd.concat([cUp, cDown, standing, sitting, walking, running, recumbency, notSpecified, unknown, jumping])"
   ]
  },
  {
   "cell_type": "code",
   "execution_count": 11,
   "metadata": {
    "collapsed": true
   },
   "outputs": [],
   "source": [
    "# Combine all sampled posture dataframes into one\n",
    "resultSample = pd.concat([cUpSample, cDownSample, standingSample, sittingSample, walkingSample, runningSample, recumbencySample, notSpecifiedSample, unknownSample, jumpingSample])"
   ]
  },
  {
   "cell_type": "code",
   "execution_count": 12,
   "metadata": {
    "collapsed": false
   },
   "outputs": [
    {
     "data": {
      "text/html": [
       "<div>\n",
       "<table border=\"1\" class=\"dataframe\">\n",
       "  <thead>\n",
       "    <tr style=\"text-align: right;\">\n",
       "      <th></th>\n",
       "      <th>0</th>\n",
       "      <th>1</th>\n",
       "      <th>2</th>\n",
       "      <th>3</th>\n",
       "      <th>4</th>\n",
       "      <th>5</th>\n",
       "      <th>6</th>\n",
       "      <th>7</th>\n",
       "      <th>8</th>\n",
       "      <th>9</th>\n",
       "      <th>10</th>\n",
       "      <th>11</th>\n",
       "      <th>12</th>\n",
       "    </tr>\n",
       "    <tr>\n",
       "      <th>13</th>\n",
       "      <th></th>\n",
       "      <th></th>\n",
       "      <th></th>\n",
       "      <th></th>\n",
       "      <th></th>\n",
       "      <th></th>\n",
       "      <th></th>\n",
       "      <th></th>\n",
       "      <th></th>\n",
       "      <th></th>\n",
       "      <th></th>\n",
       "      <th></th>\n",
       "      <th></th>\n",
       "    </tr>\n",
       "  </thead>\n",
       "  <tbody>\n",
       "    <tr>\n",
       "      <th>Climbing (down)</th>\n",
       "      <td>500</td>\n",
       "      <td>500</td>\n",
       "      <td>500</td>\n",
       "      <td>500</td>\n",
       "      <td>500</td>\n",
       "      <td>500</td>\n",
       "      <td>500</td>\n",
       "      <td>500</td>\n",
       "      <td>500</td>\n",
       "      <td>500</td>\n",
       "      <td>500</td>\n",
       "      <td>500</td>\n",
       "      <td>500</td>\n",
       "    </tr>\n",
       "    <tr>\n",
       "      <th>Climbing (up)</th>\n",
       "      <td>500</td>\n",
       "      <td>500</td>\n",
       "      <td>500</td>\n",
       "      <td>500</td>\n",
       "      <td>500</td>\n",
       "      <td>500</td>\n",
       "      <td>500</td>\n",
       "      <td>500</td>\n",
       "      <td>500</td>\n",
       "      <td>500</td>\n",
       "      <td>500</td>\n",
       "      <td>500</td>\n",
       "      <td>500</td>\n",
       "    </tr>\n",
       "    <tr>\n",
       "      <th>Jumping</th>\n",
       "      <td>318</td>\n",
       "      <td>318</td>\n",
       "      <td>318</td>\n",
       "      <td>318</td>\n",
       "      <td>318</td>\n",
       "      <td>318</td>\n",
       "      <td>318</td>\n",
       "      <td>318</td>\n",
       "      <td>318</td>\n",
       "      <td>318</td>\n",
       "      <td>318</td>\n",
       "      <td>318</td>\n",
       "      <td>318</td>\n",
       "    </tr>\n",
       "    <tr>\n",
       "      <th>Not Specified</th>\n",
       "      <td>500</td>\n",
       "      <td>500</td>\n",
       "      <td>500</td>\n",
       "      <td>500</td>\n",
       "      <td>500</td>\n",
       "      <td>500</td>\n",
       "      <td>500</td>\n",
       "      <td>500</td>\n",
       "      <td>500</td>\n",
       "      <td>500</td>\n",
       "      <td>500</td>\n",
       "      <td>500</td>\n",
       "      <td>500</td>\n",
       "    </tr>\n",
       "    <tr>\n",
       "      <th>Recumbency</th>\n",
       "      <td>500</td>\n",
       "      <td>500</td>\n",
       "      <td>500</td>\n",
       "      <td>500</td>\n",
       "      <td>500</td>\n",
       "      <td>500</td>\n",
       "      <td>500</td>\n",
       "      <td>500</td>\n",
       "      <td>500</td>\n",
       "      <td>500</td>\n",
       "      <td>500</td>\n",
       "      <td>500</td>\n",
       "      <td>500</td>\n",
       "    </tr>\n",
       "    <tr>\n",
       "      <th>Running</th>\n",
       "      <td>500</td>\n",
       "      <td>500</td>\n",
       "      <td>500</td>\n",
       "      <td>500</td>\n",
       "      <td>500</td>\n",
       "      <td>500</td>\n",
       "      <td>500</td>\n",
       "      <td>500</td>\n",
       "      <td>500</td>\n",
       "      <td>500</td>\n",
       "      <td>500</td>\n",
       "      <td>500</td>\n",
       "      <td>500</td>\n",
       "    </tr>\n",
       "    <tr>\n",
       "      <th>Sitting</th>\n",
       "      <td>500</td>\n",
       "      <td>500</td>\n",
       "      <td>500</td>\n",
       "      <td>500</td>\n",
       "      <td>500</td>\n",
       "      <td>500</td>\n",
       "      <td>500</td>\n",
       "      <td>500</td>\n",
       "      <td>500</td>\n",
       "      <td>500</td>\n",
       "      <td>500</td>\n",
       "      <td>500</td>\n",
       "      <td>500</td>\n",
       "    </tr>\n",
       "    <tr>\n",
       "      <th>Standing</th>\n",
       "      <td>500</td>\n",
       "      <td>500</td>\n",
       "      <td>500</td>\n",
       "      <td>500</td>\n",
       "      <td>500</td>\n",
       "      <td>500</td>\n",
       "      <td>500</td>\n",
       "      <td>500</td>\n",
       "      <td>500</td>\n",
       "      <td>500</td>\n",
       "      <td>500</td>\n",
       "      <td>500</td>\n",
       "      <td>500</td>\n",
       "    </tr>\n",
       "    <tr>\n",
       "      <th>Walking</th>\n",
       "      <td>500</td>\n",
       "      <td>500</td>\n",
       "      <td>500</td>\n",
       "      <td>500</td>\n",
       "      <td>500</td>\n",
       "      <td>500</td>\n",
       "      <td>500</td>\n",
       "      <td>500</td>\n",
       "      <td>500</td>\n",
       "      <td>500</td>\n",
       "      <td>500</td>\n",
       "      <td>500</td>\n",
       "      <td>500</td>\n",
       "    </tr>\n",
       "    <tr>\n",
       "      <th>unknown</th>\n",
       "      <td>500</td>\n",
       "      <td>500</td>\n",
       "      <td>500</td>\n",
       "      <td>500</td>\n",
       "      <td>500</td>\n",
       "      <td>500</td>\n",
       "      <td>500</td>\n",
       "      <td>500</td>\n",
       "      <td>500</td>\n",
       "      <td>500</td>\n",
       "      <td>500</td>\n",
       "      <td>500</td>\n",
       "      <td>500</td>\n",
       "    </tr>\n",
       "  </tbody>\n",
       "</table>\n",
       "</div>"
      ],
      "text/plain": [
       "                  0    1    2    3    4    5    6    7    8    9    10   11  \\\n",
       "13                                                                            \n",
       "Climbing (down)  500  500  500  500  500  500  500  500  500  500  500  500   \n",
       "Climbing (up)    500  500  500  500  500  500  500  500  500  500  500  500   \n",
       "Jumping          318  318  318  318  318  318  318  318  318  318  318  318   \n",
       "Not Specified    500  500  500  500  500  500  500  500  500  500  500  500   \n",
       "Recumbency       500  500  500  500  500  500  500  500  500  500  500  500   \n",
       "Running          500  500  500  500  500  500  500  500  500  500  500  500   \n",
       "Sitting          500  500  500  500  500  500  500  500  500  500  500  500   \n",
       "Standing         500  500  500  500  500  500  500  500  500  500  500  500   \n",
       "Walking          500  500  500  500  500  500  500  500  500  500  500  500   \n",
       "unknown          500  500  500  500  500  500  500  500  500  500  500  500   \n",
       "\n",
       "                  12  \n",
       "13                    \n",
       "Climbing (down)  500  \n",
       "Climbing (up)    500  \n",
       "Jumping          318  \n",
       "Not Specified    500  \n",
       "Recumbency       500  \n",
       "Running          500  \n",
       "Sitting          500  \n",
       "Standing         500  \n",
       "Walking          500  \n",
       "unknown          500  "
      ]
     },
     "execution_count": 12,
     "metadata": {},
     "output_type": "execute_result"
    }
   ],
   "source": [
    "# Check results for different counts in the same row, but different column\n",
    "resultSample.groupby(13).count()"
   ]
  },
  {
   "cell_type": "code",
   "execution_count": 5,
   "metadata": {
    "collapsed": false
   },
   "outputs": [],
   "source": [
    "# ONLY CONTINUE WHEN RECORDS CONTAIN \"NaN\" (i.e. different counts, same row, different column)\n",
    "# Create new dataframe, where values that are \"NaN\" (only in Correlation) are disregarded\n",
    "result = result[np.isfinite(result[9])]"
   ]
  },
  {
   "cell_type": "code",
   "execution_count": 14,
   "metadata": {
    "collapsed": true
   },
   "outputs": [],
   "source": [
    "# Write the ARFF header. This can be merged with all.csv to create the ARFF file used to train the model\n",
    "\n",
    "text_file = open(PATH + \"arffHeader.csv\", \"w\")\n",
    "\n",
    "text_file.write('@RELATION features\\n\\n@ATTRIBUTE xMean \tNUMERIC\\n@ATTRIBUTE xStdDev \tNUMERIC\\n@ATTRIBUTE xIntqr \tNUMERIC\\n@ATTRIBUTE yMean \tNUMERIC\\n@ATTRIBUTE yStdDev \tNUMERIC\\n@ATTRIBUTE yIntqr \tNUMERIC\\n@ATTRIBUTE zMean \tNUMERIC\\n@ATTRIBUTE zStdDev \tNUMERIC\\n@ATTRIBUTE zIntqr \tNUMERIC\\n@ATTRIBUTE CorrXY \tNUMERIC\\n@ATTRIBUTE CorrXZ \tNUMERIC\\n@ATTRIBUTE CorrYZ \tNUMERIC\\n@ATTRIBUTE timeStamp NUMERIC\\n@ATTRIBUTE class \t{\"Sitting\",\"Not Specified\",\"Walking\",\"Standing\",\"Climbing (up)\",\"Climbing (down)\",\"Running\",\"Recumbency\",\"unknown\",\"Jumping\"}\\n\\n@DATA\\n')\n",
    "\n",
    "text_file.close()"
   ]
  },
  {
   "cell_type": "code",
   "execution_count": 13,
   "metadata": {
    "collapsed": true
   },
   "outputs": [],
   "source": [
    "# Write sample result to CSV file\n",
    "resultSample.to_csv(PATH + \"allSample500.csv\", index=False, quoting=csv.QUOTE_NONNUMERIC)"
   ]
  },
  {
   "cell_type": "code",
   "execution_count": 61,
   "metadata": {
    "collapsed": true
   },
   "outputs": [],
   "source": [
    "# Write result to CSV file\n",
    "result.to_csv(PATH + \"all.csv\", index=False, quoting=csv.QUOTE_NONNUMERIC)"
   ]
  },
  {
   "cell_type": "code",
   "execution_count": 50,
   "metadata": {
    "collapsed": false,
    "scrolled": false
   },
   "outputs": [],
   "source": [
    "############# Stratified Sampling BEGIN ############# "
   ]
  },
  {
   "cell_type": "code",
   "execution_count": 76,
   "metadata": {
    "collapsed": true
   },
   "outputs": [],
   "source": [
    "# Set stratification percentage\n",
    "stratfraction = 0.5\n",
    "# Load only the last column with the postures\n",
    "df = pd.read_csv(PATH + 'all.csv', usecols = [13])"
   ]
  },
  {
   "cell_type": "code",
   "execution_count": 77,
   "metadata": {
    "collapsed": false
   },
   "outputs": [],
   "source": [
    "# Generate the counts per value of posture\n",
    "df['Obs']  = 1\n",
    "gp = df.groupby(['13'])"
   ]
  },
  {
   "cell_type": "code",
   "execution_count": 78,
   "metadata": {
    "collapsed": false
   },
   "outputs": [],
   "source": [
    "# Get number of samples per posture\n",
    "df2 = np.ceil(gp.count()*stratfraction)\n",
    "# Generate the indices of the request sample (first entrie)\n",
    "stratsample = []\n",
    "for i, key in enumerate(gp.groups):\n",
    "    FirstFracEntries = gp.groups[key][0:int(df2['Obs'][i])]\n",
    "    stratsample.extend(FirstFracEntries) \n",
    "# Generate a list of rows to skip since read_csv doesn't have a rows to keep option\n",
    "stratsample.sort\n",
    "RowsToSkip = set(df.index.values).difference(stratsample)\n",
    "# Load only the requested rows        \n",
    "df3 = df = pd.read_csv(PATH + 'all.csv', skiprows = RowsToSkip)"
   ]
  },
  {
   "cell_type": "code",
   "execution_count": 80,
   "metadata": {
    "collapsed": false
   },
   "outputs": [],
   "source": [
    "# Write stratified sampling result to CSV file\n",
    "df3.to_csv(PATH + \"stratifiedall.csv\", index=False, header=False, quoting=csv.QUOTE_NONNUMERIC)"
   ]
  },
  {
   "cell_type": "code",
   "execution_count": null,
   "metadata": {
    "collapsed": true
   },
   "outputs": [],
   "source": [
    "############# Stratified Sampling END ############# "
   ]
  }
 ],
 "metadata": {
  "kernelspec": {
   "display_name": "Python 2",
   "language": "python",
   "name": "python2"
  },
  "language_info": {
   "codemirror_mode": {
    "name": "ipython",
    "version": 2
   },
   "file_extension": ".py",
   "mimetype": "text/x-python",
   "name": "python",
   "nbconvert_exporter": "python",
   "pygments_lexer": "ipython2",
   "version": "2.7.10"
  }
 },
 "nbformat": 4,
 "nbformat_minor": 0
}
