{
 "cells": [
  {
   "cell_type": "code",
   "execution_count": 1,
   "metadata": {
    "collapsed": true
   },
   "outputs": [],
   "source": [
    "import csv\n",
    "import pandas as pd\n",
    "import numpy as np\n",
    "import matplotlib.pyplot as plt\n",
    "import matplotlib\n",
    "import random\n",
    "\n",
    "matplotlib.style.use('ggplot')\n",
    "%matplotlib inline"
   ]
  },
  {
   "cell_type": "code",
   "execution_count": 24,
   "metadata": {
    "collapsed": true
   },
   "outputs": [],
   "source": [
    "s = pd.read_csv('assets/0newTrainingData/original.csv', quoting=1, header=0, index_col=0)"
   ]
  },
  {
   "cell_type": "code",
   "execution_count": 25,
   "metadata": {
    "collapsed": false
   },
   "outputs": [],
   "source": [
    "s.to_csv('assets/0newTrainingData/original2.csv', index=False, quoting=csv.QUOTE_NONNUMERIC)"
   ]
  },
  {
   "cell_type": "code",
   "execution_count": 28,
   "metadata": {
    "collapsed": false
   },
   "outputs": [
    {
     "data": {
      "text/plain": [
       "id\n",
       "1         1443875752466\n",
       "2         1443875752486\n",
       "3         1443875752506\n",
       "4         1443875752525\n",
       "5         1443875752546\n",
       "6         1443875752565\n",
       "7         1443875752584\n",
       "8         1443875752603\n",
       "9         1443875752624\n",
       "10        1443875752644\n",
       "11        1443875752664\n",
       "12        1443875752684\n",
       "13        1443875752703\n",
       "14        1443875752723\n",
       "15        1443875752743\n",
       "16        1443875752762\n",
       "17        1443875752782\n",
       "18        1443875752802\n",
       "19        1443875752822\n",
       "20        1443875752842\n",
       "21        1443875752861\n",
       "22        1443875752881\n",
       "23        1443875752901\n",
       "24        1443875752923\n",
       "25        1443875752942\n",
       "26        1443875752961\n",
       "27        1443875752984\n",
       "28        1443875753003\n",
       "29        1443875753022\n",
       "30        1443875753040\n",
       "              ...      \n",
       "158536    1443879250230\n",
       "158537    1443879250249\n",
       "158538    1443879250269\n",
       "158539    1443879250289\n",
       "158540    1443879250309\n",
       "158541    1443879250329\n",
       "158542    1443879250347\n",
       "158543    1443879250368\n",
       "158544    1443879250388\n",
       "158545    1443879250408\n",
       "158546    1443879250427\n",
       "158547    1443879250447\n",
       "158548    1443879250467\n",
       "158549    1443879250489\n",
       "158550    1443879250515\n",
       "158551    1443879250532\n",
       "158552    1443879250550\n",
       "158553    1443879250572\n",
       "158554    1443879250591\n",
       "158555    1443879250608\n",
       "158556    1443879250631\n",
       "158557    1443879250650\n",
       "158558    1443879250671\n",
       "158559    1443879250690\n",
       "158560    1443879250711\n",
       "158561    1443879250725\n",
       "158562    1443879250744\n",
       "158563    1443879250764\n",
       "158564    1443879250784\n",
       "158565    1443879250804\n",
       "Name: attr_time, dtype: int64"
      ]
     },
     "execution_count": 28,
     "metadata": {},
     "output_type": "execute_result"
    }
   ],
   "source": [
    "s['attr_time']"
   ]
  },
  {
   "cell_type": "code",
   "execution_count": null,
   "metadata": {
    "collapsed": true
   },
   "outputs": [],
   "source": []
  }
 ],
 "metadata": {
  "kernelspec": {
   "display_name": "Python 2",
   "language": "python",
   "name": "python2"
  },
  "language_info": {
   "codemirror_mode": {
    "name": "ipython",
    "version": 2
   },
   "file_extension": ".py",
   "mimetype": "text/x-python",
   "name": "python",
   "nbconvert_exporter": "python",
   "pygments_lexer": "ipython2",
   "version": "2.7.10"
  }
 },
 "nbformat": 4,
 "nbformat_minor": 0
}
