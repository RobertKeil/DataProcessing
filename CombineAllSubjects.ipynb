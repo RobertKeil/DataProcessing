{
 "cells": [
  {
   "cell_type": "code",
   "execution_count": 8,
   "metadata": {
    "collapsed": false
   },
   "outputs": [],
   "source": [
    "import csv\n",
    "import pandas as pd\n",
    "import numpy as np"
   ]
  },
  {
   "cell_type": "code",
   "execution_count": 4,
   "metadata": {
    "collapsed": false
   },
   "outputs": [],
   "source": [
    "# Get and clean data from all different postures\n",
    "PATH = 'assets/Combined/AllSubjectsCombined/'\n",
    "\n",
    "cUp = pd.read_csv(PATH + 'climbingUp.csv', header=None)\n",
    "\n",
    "cDown = pd.read_csv(PATH + 'climbingDown.csv', header=None)\n",
    "\n",
    "standing = pd.read_csv(PATH + 'standing.csv', header=None)\n",
    "standing.replace(\"stehen\", \"Standing\", inplace=True)\n",
    "\n",
    "sitting = pd.read_csv(PATH + 'sitting.csv', header=None)\n",
    "sitting.replace(\"sitzen\", \"Sitting\", inplace=True)\n",
    "\n",
    "walking = pd.read_csv(PATH + 'walking.csv', header=None)\n",
    "walking.replace(\"gehen\", \"Walking\", inplace=True)\n",
    "\n",
    "running = pd.read_csv(PATH + 'running.csv', header=None)\n",
    "running.replace(\"rennen\", \"Running\", inplace=True)\n",
    "\n",
    "recumbency = pd.read_csv(PATH + 'recumbency.csv', header=None)\n",
    "recumbency.replace(\"liegen\", \"Recumbency\", inplace=True)\n",
    "\n",
    "notSpecified = pd.read_csv(PATH + 'notSpecified.csv', header=None)\n",
    "notSpecified.replace(\"Nicht festgelegt\", \"Not Specified\", inplace=True)\n",
    "\n",
    "unknown = pd.read_csv(PATH + 'unknown.csv', header=None)\n",
    "\n",
    "jumping = pd.read_csv(PATH + 'jumping.csv', header=None)\n",
    "jumping.replace(\"springen\", \"Jumping\", inplace=True)"
   ]
  },
  {
   "cell_type": "code",
   "execution_count": 5,
   "metadata": {
    "collapsed": false
   },
   "outputs": [],
   "source": [
    "# Combine all posture dataframes into one\n",
    "result = pd.concat([cUp, cDown, standing, sitting, walking, running, recumbency, notSpecified, unknown, jumping])"
   ]
  },
  {
   "cell_type": "code",
   "execution_count": null,
   "metadata": {
    "collapsed": false,
    "scrolled": false
   },
   "outputs": [],
   "source": [
    "# Check results for different counts in the same row, but different column\n",
    "result.groupby(13).count()"
   ]
  },
  {
   "cell_type": "code",
   "execution_count": 18,
   "metadata": {
    "collapsed": false
   },
   "outputs": [],
   "source": [
    "# ONLY CONTINUE WHEN RECORDS CONTAIN \"NaN\" (i.e. different counts, same row, different column)\n",
    "# Create new dataframe, where values that are \"NaN\" (only in Correlation) are disregarded\n",
    "result = result[np.isfinite(result[9])]"
   ]
  },
  {
   "cell_type": "code",
   "execution_count": 19,
   "metadata": {
    "collapsed": true
   },
   "outputs": [],
   "source": [
    "# Write result to CSV file\n",
    "result.to_csv(PATH + \"all.csv\", index=False, quoting=csv.QUOTE_NONNUMERIC)"
   ]
  },
  {
   "cell_type": "code",
   "execution_count": 30,
   "metadata": {
    "collapsed": false
   },
   "outputs": [],
   "source": [
    "# ALPHA VERSION: Does a 20% stratified sampling of all subjects combined, to decrease file size and performance time\n",
    "\n",
    "stratfraction = 0.2\n",
    "#Generate the counts per value of Z\n",
    "result['Obs']  = 1\n",
    "gp = result.groupby(13)\n",
    "#Get number of samples per group \n",
    "df2 = np.ceil(gp.count()*stratfraction)\n",
    "#Generate the indices of the request sample (first entrie)\n",
    "stratsample = []\n",
    "for i, key in enumerate(gp.groups):\n",
    "    FirstFracEntries = gp.groups[key][0:int(df2['Obs'][i])]\n",
    "    stratsample.extend(FirstFracEntries) \n",
    "#Generate a list of rows to skip since read_csv doesn't have a rows to keep option\n",
    "stratsample.sort\n",
    "RowsToSkip = set(result.index.values).difference(stratsample)\n",
    "#Load only the requested rows      \n",
    "df3 = df = pd.read_csv(PATH + 'all.csv', header=None, skiprows = RowsToSkip)"
   ]
  },
  {
   "cell_type": "code",
   "execution_count": null,
   "metadata": {
    "collapsed": false,
    "scrolled": false
   },
   "outputs": [],
   "source": [
    "# ALPHA VERSION: Write stratified result to CSV file\n",
    "df3.to_csv(PATH + \"stratifiedAll.csv\", index=False, quoting=csv.QUOTE_NONNUMERIC)"
   ]
  },
  {
   "cell_type": "code",
   "execution_count": null,
   "metadata": {
    "collapsed": true
   },
   "outputs": [],
   "source": []
  }
 ],
 "metadata": {
  "kernelspec": {
   "display_name": "Python 2",
   "language": "python",
   "name": "python2"
  },
  "language_info": {
   "codemirror_mode": {
    "name": "ipython",
    "version": 2
   },
   "file_extension": ".py",
   "mimetype": "text/x-python",
   "name": "python",
   "nbconvert_exporter": "python",
   "pygments_lexer": "ipython2",
   "version": "2.7.10"
  }
 },
 "nbformat": 4,
 "nbformat_minor": 0
}
