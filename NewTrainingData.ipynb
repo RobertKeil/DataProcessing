{
 "cells": [
  {
   "cell_type": "code",
   "execution_count": 1,
   "metadata": {
    "collapsed": true
   },
   "outputs": [],
   "source": [
    "import csv\n",
    "import pandas as pd\n",
    "import numpy as np\n",
    "import matplotlib.pyplot as plt\n",
    "import matplotlib\n",
    "import random\n",
    "\n",
    "matplotlib.style.use('ggplot')\n",
    "%matplotlib inline"
   ]
  },
  {
   "cell_type": "code",
   "execution_count": 6,
   "metadata": {
    "collapsed": true
   },
   "outputs": [],
   "source": [
    "s = pd.read_csv('assets/0newTrainingData/Tobi/original.csv', quoting=1, header=0, index_col=0)"
   ]
  },
  {
   "cell_type": "code",
   "execution_count": 7,
   "metadata": {
    "collapsed": false
   },
   "outputs": [],
   "source": [
    "s.to_csv('assets/0newTrainingData/Tobi/original_cleaned.csv', index=False, quoting=csv.QUOTE_NONNUMERIC)"
   ]
  },
  {
   "cell_type": "code",
   "execution_count": 21,
   "metadata": {
    "collapsed": false
   },
   "outputs": [],
   "source": [
    "# For climbing (up) and climbing (down)\n",
    "\n",
    "with open('assets/0newTrainingData/original.csv', 'rb') as csvin:\n",
    "    with open('assets/0newTrainingData/climbingUp.csv', 'wb') as csvout:\n",
    "        spamwriter = csv.writer(csvout, delimiter=',', quotechar='\"', quoting=csv.QUOTE_MINIMAL)\n",
    "        spamreader = csv.reader(csvin, delimiter=',', quotechar='\"')\n",
    "        spamreader.next()\n",
    "        for row in spamreader:\n",
    "            if 1443877142000L < long(row[1]) < 1443877190000L:\n",
    "                spamwriter.writerow([row[1], row[2], row[3], row[4]])\n",
    "            if 1443877382000L < long(row[1]) < 1443877426000L:\n",
    "                spamwriter.writerow([row[1], row[2], row[3], row[4]])\n",
    "            if 1443877562000L < long(row[1]) < 1443877604000L:\n",
    "                spamwriter.writerow([row[1], row[2], row[3], row[4]])\n",
    "            if 1443877742000L < long(row[1]) < 1443877784000L:\n",
    "                spamwriter.writerow([row[1], row[2], row[3], row[4]])\n",
    "            if 1443877922000L < long(row[1]) < 1443877966000L:\n",
    "                spamwriter.writerow([row[1], row[2], row[3], row[4]])\n",
    "    "
   ]
  },
  {
   "cell_type": "code",
   "execution_count": null,
   "metadata": {
    "collapsed": true
   },
   "outputs": [],
   "source": [
    "# For Phone on table?\n",
    "\n",
    "with open('assets/0newTrainingData/original.csv', 'rb') as csvin:\n",
    "    with open('assets/0newTrainingData/climbingUp.csv', 'wb') as csvout:\n",
    "        spamwriter = csv.writer(csvout, delimiter=',', quotechar='\"', quoting=csv.QUOTE_MINIMAL)\n",
    "        spamreader = csv.reader(csvin, delimiter=',', quotechar='\"')\n",
    "        spamreader.next()\n",
    "        for row in spamreader:\n",
    "            if 1443877142000L < long(row[1]) < 1443877190000L:\n",
    "                spamwriter.writerow([row[1], row[2], row[3], row[4]])\n",
    "            if 1443877382000L < long(row[1]) < 1443877426000L:\n",
    "                spamwriter.writerow([row[1], row[2], row[3], row[4]])\n",
    "            if 1443877562000L < long(row[1]) < 1443877604000L:\n",
    "                spamwriter.writerow([row[1], row[2], row[3], row[4]])\n",
    "            if 1443877742000L < long(row[1]) < 1443877784000L:\n",
    "                spamwriter.writerow([row[1], row[2], row[3], row[4]])\n",
    "            if 1443877922000L < long(row[1]) < 1443877966000L:\n",
    "                spamwriter.writerow([row[1], row[2], row[3], row[4]])"
   ]
  }
 ],
 "metadata": {
  "kernelspec": {
   "display_name": "Python 2",
   "language": "python",
   "name": "python2"
  },
  "language_info": {
   "codemirror_mode": {
    "name": "ipython",
    "version": 2
   },
   "file_extension": ".py",
   "mimetype": "text/x-python",
   "name": "python",
   "nbconvert_exporter": "python",
   "pygments_lexer": "ipython2",
   "version": "2.7.10"
  }
 },
 "nbformat": 4,
 "nbformat_minor": 0
}
